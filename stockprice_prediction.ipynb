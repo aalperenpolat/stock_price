{
  "nbformat": 4,
  "nbformat_minor": 0,
  "metadata": {
    "colab": {
      "provenance": [],
      "authorship_tag": "ABX9TyOlLTvzoHtK3hcqNNVwZNkH",
      "include_colab_link": true
    },
    "kernelspec": {
      "name": "python3",
      "display_name": "Python 3"
    },
    "language_info": {
      "name": "python"
    }
  },
  "cells": [
    {
      "cell_type": "markdown",
      "metadata": {
        "id": "view-in-github",
        "colab_type": "text"
      },
      "source": [
        "<a href=\"https://colab.research.google.com/github/aalperenpolat/stock_price/blob/main/stockprice_prediction.ipynb\" target=\"_parent\"><img src=\"https://colab.research.google.com/assets/colab-badge.svg\" alt=\"Open In Colab\"/></a>"
      ]
    },
    {
      "cell_type": "markdown",
      "source": [
        "#Stock\n",
        "\n",
        "Bu uygulama run all diyerek başlatılabilir. Her gün hisse fiyatları güncelleneceği için program her çalıştırıldığında baştan training yapacaktır. Şirketi seçtikten sonra lütfen sayfanın en altına giderek tahminin ekrana yazdırılmasını bekleyiniz."
      ],
      "metadata": {
        "id": "EGBkTh0zJXhX"
      }
    },
    {
      "cell_type": "code",
      "source": [
        "menu = \"\"\"\n",
        "\n",
        "Hisse senedi fiyat tahmini uygulamasına hoş geldiniz!\n",
        "\n",
        "Yarın için hisse senedi fiyat tahmini yapmak istediğiniz\n",
        "şirketi lütfen aşağıdaki listeden seçiniz.\n",
        "\n",
        "1) Apple\n",
        "2) Microsoft\n",
        "3) Starbucks\n",
        "\n",
        "\n",
        "\"\"\"\n",
        "\n",
        "\n",
        "chosen_number = input(menu)\n",
        "\n",
        "if chosen_number == \"1\":\n",
        "  input_company = \"AAPL\"\n",
        "\n",
        "elif chosen_number == \"2\":\n",
        "  input_company = \"MSFT\"\n",
        "\n",
        "elif chosen_number == \"3\":\n",
        "  input_company = \"SBUX\"\n",
        "\n",
        "else:\n",
        "  print(\"Lütfen geçerli bir sayı giriniz\")"
      ],
      "metadata": {
        "colab": {
          "base_uri": "https://localhost:8080/"
        },
        "id": "hfM2-rzx1Ted",
        "outputId": "edeb30e4-be9c-43ce-8d3e-bd5e1fc12ac6"
      },
      "execution_count": null,
      "outputs": [
        {
          "name": "stdout",
          "output_type": "stream",
          "text": [
            " \n",
            "\n",
            "Hisse senedi fiyat tahmini uygulamasına hoş geldiniz!\n",
            "\n",
            "Yarın için hisse senedi fiyat tahmini yapmak istediğiniz\n",
            "şirketi lütfen aşağıdaki listeden seçiniz.\n",
            "\n",
            "1) Apple\n",
            "2) Microsoft\n",
            "3) Starbucks\n",
            "\n",
            "\n",
            "1\n"
          ]
        }
      ]
    },
    {
      "cell_type": "markdown",
      "source": [
        "###Libraries"
      ],
      "metadata": {
        "id": "Ry7Urh8iJcts"
      }
    },
    {
      "cell_type": "code",
      "source": [
        "import numpy as np\n",
        "import matplotlib.pyplot as plt\n",
        "import pandas as pd\n",
        "import pandas_datareader as web\n",
        "import datetime as dt\n",
        "import yfinance as yf\n",
        "\n",
        "\n",
        "from sklearn.preprocessing import MinMaxScaler\n",
        "from sklearn.model_selection import train_test_split\n",
        "from tensorflow.keras.models import Sequential\n",
        "from tensorflow.keras.layers import Dense, Dropout, LSTM"
      ],
      "metadata": {
        "id": "3CInsxDGDPDK"
      },
      "execution_count": null,
      "outputs": []
    },
    {
      "cell_type": "markdown",
      "source": [
        "###Loading Data"
      ],
      "metadata": {
        "id": "JeZ9zBmTJfD6"
      }
    },
    {
      "cell_type": "code",
      "source": [
        "#Loading Data\n",
        "\n",
        "company = input_company\n",
        "\n",
        "start = dt.datetime(2015,1,1)\n",
        "end = dt.datetime(2023,1,1)\n",
        "\n",
        "data = yf.download(company, start, end)\n",
        "\n",
        "#Preparing data\n",
        "\n",
        "scaler = MinMaxScaler(feature_range = (0,1))\n",
        "scaled_data = scaler.fit_transform(data['Close'].values.reshape(-1,1))\n",
        "\n",
        "prediction_days = 60\n",
        "\n",
        "X_train = []\n",
        "y_train = []\n",
        "\n",
        "\n",
        "for x in range(prediction_days, len(scaled_data)):\n",
        "  X_train.append(scaled_data[x-prediction_days:x, 0])\n",
        "  y_train.append(scaled_data[x, 0])\n",
        "\n",
        "X_train, y_train = np.array(X_train), np.array(y_train)\n",
        "X_train = np.reshape(X_train, (X_train.shape[0], X_train.shape[1], 1))\n"
      ],
      "metadata": {
        "colab": {
          "base_uri": "https://localhost:8080/"
        },
        "id": "Q2O7W_DHFVlV",
        "outputId": "7c866ff8-8213-40d3-fb5b-c4856d1a410d"
      },
      "execution_count": null,
      "outputs": [
        {
          "output_type": "stream",
          "name": "stdout",
          "text": [
            "\r[*********************100%%**********************]  1 of 1 completed\n"
          ]
        }
      ]
    },
    {
      "cell_type": "markdown",
      "source": [
        "###Building Model"
      ],
      "metadata": {
        "id": "4v-J6cI7Jg5a"
      }
    },
    {
      "cell_type": "code",
      "source": [
        "model = Sequential()\n",
        "\n",
        "model.add(LSTM(units=50, return_sequences=True, input_shape = (X_train.shape[1], 1)))\n",
        "model.add(Dropout(0.2))\n",
        "model.add(LSTM(units=50, return_sequences=True))\n",
        "model.add(Dropout(0.2))\n",
        "model.add(LSTM(units=50))\n",
        "model.add(Dropout(0.2))\n",
        "model.add(Dense(units=1)) #Prediction\n",
        "\n",
        "\n",
        "model.compile(optimizer='adam', loss='mean_squared_error')\n",
        "model.fit(X_train, y_train, epochs=10, batch_size=32)"
      ],
      "metadata": {
        "colab": {
          "base_uri": "https://localhost:8080/"
        },
        "id": "1j3HcIyyHi4g",
        "outputId": "6421f35b-4fe3-43b5-c9c6-9901f74625e1"
      },
      "execution_count": null,
      "outputs": [
        {
          "output_type": "stream",
          "name": "stdout",
          "text": [
            "Epoch 1/10\n",
            "62/62 [==============================] - 12s 88ms/step - loss: 0.0169\n",
            "Epoch 2/10\n",
            "62/62 [==============================] - 5s 76ms/step - loss: 0.0029\n",
            "Epoch 3/10\n",
            "62/62 [==============================] - 7s 108ms/step - loss: 0.0026\n",
            "Epoch 4/10\n",
            "62/62 [==============================] - 5s 78ms/step - loss: 0.0028\n",
            "Epoch 5/10\n",
            "62/62 [==============================] - 5s 76ms/step - loss: 0.0030\n",
            "Epoch 6/10\n",
            "62/62 [==============================] - 7s 112ms/step - loss: 0.0024\n",
            "Epoch 7/10\n",
            "62/62 [==============================] - 5s 77ms/step - loss: 0.0025\n",
            "Epoch 8/10\n",
            "62/62 [==============================] - 5s 76ms/step - loss: 0.0023\n",
            "Epoch 9/10\n",
            "62/62 [==============================] - 7s 118ms/step - loss: 0.0030\n",
            "Epoch 10/10\n",
            "62/62 [==============================] - 5s 82ms/step - loss: 0.0024\n"
          ]
        },
        {
          "output_type": "execute_result",
          "data": {
            "text/plain": [
              "<keras.src.callbacks.History at 0x7c47f6715b40>"
            ]
          },
          "metadata": {},
          "execution_count": 102
        }
      ]
    },
    {
      "cell_type": "markdown",
      "source": [
        "###Saving the Model"
      ],
      "metadata": {
        "id": "kCfhwgdyOVdJ"
      }
    },
    {
      "cell_type": "code",
      "source": [
        "from google.colab import drive\n",
        "\n",
        "drive.mount('/content/drive')\n",
        "\n",
        "# Save the model\n",
        "model.save(f\"/content/drive/MyDrive/Techcareer_Essential_AI_Bootcamp/Week3/Apple Stock Price/{company}_model.h5\")\n"
      ],
      "metadata": {
        "colab": {
          "base_uri": "https://localhost:8080/"
        },
        "id": "zD_u4t47KtqT",
        "outputId": "319672f7-163e-48a4-806f-d6d0de974b5d"
      },
      "execution_count": null,
      "outputs": [
        {
          "output_type": "stream",
          "name": "stdout",
          "text": [
            "Drive already mounted at /content/drive; to attempt to forcibly remount, call drive.mount(\"/content/drive\", force_remount=True).\n"
          ]
        },
        {
          "output_type": "stream",
          "name": "stderr",
          "text": [
            "/usr/local/lib/python3.10/dist-packages/keras/src/engine/training.py:3103: UserWarning: You are saving your model as an HDF5 file via `model.save()`. This file format is considered legacy. We recommend using instead the native Keras format, e.g. `model.save('my_model.keras')`.\n",
            "  saving_api.save_model(\n"
          ]
        }
      ]
    },
    {
      "cell_type": "markdown",
      "source": [
        "###Test"
      ],
      "metadata": {
        "id": "C4-fPc2SOUXo"
      }
    },
    {
      "cell_type": "code",
      "source": [
        "test_start = dt.datetime(2023,1,1)\n",
        "test_end = dt.datetime.now()\n",
        "\n",
        "test_data = yf.download(company, test_start, test_end)\n",
        "\n",
        "actual_prices = test_data['Close'].values\n",
        "\n",
        "total_dataset = pd.concat((data['Close'], test_data['Close']), axis=0)\n",
        "\n",
        "model_inputs = total_dataset[len(total_dataset) - len(test_data) - prediction_days:].values\n",
        "model_inputs = model_inputs.reshape(-1,1)\n",
        "model_inputs = scaler.transform(model_inputs)"
      ],
      "metadata": {
        "colab": {
          "base_uri": "https://localhost:8080/"
        },
        "id": "m5I_aeNUOUCs",
        "outputId": "c22a6a29-b655-4555-cf13-88ec44881b74"
      },
      "execution_count": null,
      "outputs": [
        {
          "output_type": "stream",
          "name": "stdout",
          "text": [
            "\r[*********************100%%**********************]  1 of 1 completed\n"
          ]
        }
      ]
    },
    {
      "cell_type": "markdown",
      "source": [
        "###Making Predictions on Test Data"
      ],
      "metadata": {
        "id": "Ru23NPwpbEnz"
      }
    },
    {
      "cell_type": "code",
      "source": [
        "X_test = []\n",
        "\n",
        "for x in range(prediction_days, len(model_inputs)):\n",
        "  X_test.append(model_inputs[x-prediction_days:x, 0])\n",
        "\n",
        "X_test = np.array(X_test)\n",
        "X_test = np.reshape(X_test, (X_test.shape[0], X_test.shape[1], 1))\n",
        "\n",
        "\n",
        "predicted_prices = model.predict(X_test)\n",
        "predicted_prices = scaler.inverse_transform(predicted_prices)"
      ],
      "metadata": {
        "colab": {
          "base_uri": "https://localhost:8080/"
        },
        "id": "YOQnorzQbDQ6",
        "outputId": "3084fe8b-a0f0-4fc9-fbe7-70c177bd125a"
      },
      "execution_count": null,
      "outputs": [
        {
          "output_type": "stream",
          "name": "stdout",
          "text": [
            "9/9 [==============================] - 2s 31ms/step\n"
          ]
        }
      ]
    },
    {
      "cell_type": "markdown",
      "source": [
        "#Plotting the Test Predictions"
      ],
      "metadata": {
        "id": "krsuStI5dF55"
      }
    },
    {
      "cell_type": "code",
      "source": [
        "plt.plot(actual_prices, color=\"black\", label=f\"Actual {company} Price\")\n",
        "plt.plot(predicted_prices, color=\"green\", label=f\"Predicted {company} Price\")\n",
        "plt.title(f\"{company} Share Price\")\n",
        "plt.xlabel(\"Time\")\n",
        "plt.ylabel(f\"{company} Share Price\")\n",
        "plt.legend()\n",
        "plt.show()"
      ],
      "metadata": {
        "colab": {
          "base_uri": "https://localhost:8080/",
          "height": 472
        },
        "id": "9cUYHMdBcIJi",
        "outputId": "c564c742-5d29-4a76-ab75-a9fd2c9cecf0"
      },
      "execution_count": null,
      "outputs": [
        {
          "output_type": "display_data",
          "data": {
            "text/plain": [
              "<Figure size 640x480 with 1 Axes>"
            ],
            "image/png": "[encoded data removed]"
          },
          "metadata": {}
        }
      ]
    },
    {
      "cell_type": "markdown",
      "source": [
        "###Loading Existing Models"
      ],
      "metadata": {
        "id": "aOX-HEmjxDEQ"
      }
    },
    {
      "cell_type": "code",
      "source": [
        "'''from keras.models import load_model\n",
        "\n",
        "# Load the model\n",
        "model = load_model(\"/content/drive/MyDrive/Techcareer_Essential_AI_Bootcamp/Week3/Apple Stock Price/THYAO.IS_model.h5\")\n",
        "'''"
      ],
      "metadata": {
        "colab": {
          "base_uri": "https://localhost:8080/",
          "height": 53
        },
        "id": "4vk133_3eI-6",
        "outputId": "dac95b56-659c-4c5a-c3da-a94410bb4650"
      },
      "execution_count": null,
      "outputs": [
        {
          "output_type": "execute_result",
          "data": {
            "text/plain": [
              "'from keras.models import load_model\\n\\n# Load the model\\nmodel = load_model(\"/content/drive/MyDrive/Techcareer_Essential_AI_Bootcamp/Week3/Apple Stock Price/THYAO.IS_model.h5\")\\n'"
            ],
            "application/vnd.google.colaboratory.intrinsic+json": {
              "type": "string"
            }
          },
          "metadata": {},
          "execution_count": 107
        }
      ]
    },
    {
      "cell_type": "markdown",
      "source": [
        "###Predicting the Next Day"
      ],
      "metadata": {
        "id": "sHu2ywHjxIBP"
      }
    },
    {
      "cell_type": "code",
      "source": [
        "real_data = [model_inputs[len(model_inputs)+1 - prediction_days:len(model_inputs+1),0]]\n",
        "real_data = np.array(real_data)\n",
        "real_data = np.reshape(real_data, (real_data.shape[0], real_data.shape[1], 1))\n",
        "\n",
        "prediction = model.predict(real_data)\n",
        "prediction = scaler.inverse_transform(prediction)\n",
        "print(f\"Seçtiğiniz şirketin yarın için hisse senedi fiyat tavsiyesi: {prediction}\")\n",
        "\n"
      ],
      "metadata": {
        "colab": {
          "base_uri": "https://localhost:8080/"
        },
        "id": "yUt8z9IGxCF2",
        "outputId": "b28f1165-3206-40a0-d382-17a958fcbe27"
      },
      "execution_count": null,
      "outputs": [
        {
          "output_type": "stream",
          "name": "stdout",
          "text": [
            "1/1 [==============================] - 2s 2s/step\n",
            "Seçtiğiniz şirketin yarın için hisse senedi fiyat tavsiyesi: [[185.62886]]\n"
          ]
        }
      ]
    }
  ]
}